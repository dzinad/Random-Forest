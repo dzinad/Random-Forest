{
 "cells": [
  {
   "cell_type": "code",
   "execution_count": 17,
   "metadata": {},
   "outputs": [
    {
     "name": "stdout",
     "output_type": "stream",
     "text": [
      "Populating the interactive namespace from numpy and matplotlib\n"
     ]
    }
   ],
   "source": [
    "from matplotlib import pyplot\n",
    "import pandas as pd\n",
    "import numpy as np\n",
    "from numpy import linalg as la\n",
    "import sklearn as sk\n",
    "import sklearn.metrics\n",
    "import random as rd\n",
    "from sklearn.grid_search import GridSearchCV\n",
    "from sklearn.metrics import accuracy_score\n",
    "from sklearn.ensemble import RandomForestClassifier\n",
    "%pylab inline"
   ]
  },
  {
   "cell_type": "markdown",
   "metadata": {
    "collapsed": true
   },
   "source": [
    "# RandomForestClassifier\n",
    "Создадим класс RandomForestClassifier. Он содержит tree_num объектов типа Tree - отдельных решающих деревьев для подвыборки размера N, сгенерированной бутстрапом. Каждая вершина в Tree является объектом класса Node. В Node хранится следующая информация:<br>\n",
    "а) является ли вершина листом<br>\n",
    "б) если лист, то прогноз для листа<br>\n",
    "если не лист:<br>\n",
    "в) индекс признака, по которому в данной вершине происходит разделение<br>\n",
    "г) значение признака, по которому в данной вершине происходит разделение<br>\n",
    "д) вершины-дети<br>\n",
    "Ни в одной из вершин сами элементы подвыборки не хранятся.<br>\n",
    "Каждое решающее дерево строится по q(d) признакам (d = 784 - размер картинки). Для выбора способа разбиения вершины используется критерий Джини. Критерий останова: достижение максимальной глубины дерева или количество элементов в листе.<br>\n",
    "Метод predict для каждого дерева определяет, к какому листу должен принадлежать элемент (исходя из использованного разбиения вершины), и усредняет ответ по всем деревьям."
   ]
  },
  {
   "cell_type": "code",
   "execution_count": 3,
   "metadata": {
    "collapsed": true
   },
   "outputs": [],
   "source": [
    "class DRandomForestClassifier(object):\n",
    "    \"\"\"docstring\"\"\"\n",
    "    \n",
    "    class Tree:\n",
    "        \"\"\"docstring\"\"\"\n",
    "        \n",
    "        class Node:\n",
    "            \"\"\"docstring\"\"\"\n",
    "            \n",
    "            def __init__(self):\n",
    "                \"\"\"Constructor\"\"\"\n",
    "                self.is_leaf = False\n",
    "                self.forecast = None\n",
    "                self.t = 0\n",
    "                self.factor_ind = 0\n",
    "                self.left = None\n",
    "                self.right = None\n",
    "                \n",
    "            def predict(self, X):\n",
    "                if self.is_leaf:\n",
    "                    return self.forecast\n",
    "                if X[0][self.factor_ind] <= self.t:\n",
    "                    if self.left is not None:\n",
    "                        return self.left.predict(X)\n",
    "                    else:\n",
    "                        return self.right.predict(X)\n",
    "                else:\n",
    "                    if self.right is not None:\n",
    "                        return self.right.predict(X)\n",
    "                    else:\n",
    "                        return self.left.predict(X)\n",
    "                    \n",
    "        \n",
    "        def __init__(self, X, y, max_in_leaf, max_depth, q):            \n",
    "            \"\"\"Constructor\"\"\"        \n",
    "            self.max_in_leaf = max_in_leaf\n",
    "            self.max_depth = max_depth\n",
    "            self.root = self.Node()\n",
    "            X = np.array(X).reshape((len(X), 1, -1))\n",
    "            d = len(X[0][0])\n",
    "            tmp = np.arange(d)\n",
    "            s = int (q(d))\n",
    "            np.random.shuffle(tmp)\n",
    "            self.factors = tmp[:s]\n",
    "            self.root = self.add_children(self.root, X, y, 0)\n",
    "            \n",
    "        def H(self, x, y):\n",
    "            y = np.array(y)\n",
    "            tmp1 = np.unique(y)   \n",
    "            p1 = len(y[y == tmp1[0]]) * 1. / len(x)\n",
    "            p2 = 1 - p1\n",
    "            return p1 * (1 - p1) * p2 * (1 - p2)\n",
    "        \n",
    "            \n",
    "        def add_children(self, node, X, y, depth):\n",
    "            X = np.array(X)\n",
    "            y = np.array(y)\n",
    "            if (len(X) <= self.max_in_leaf) | (depth >= self.max_depth):\n",
    "                values = unique(y)\n",
    "                num1 = len(y[y == values[0]])\n",
    "                num2 = 0\n",
    "                if len(values) > 1:\n",
    "                    num2 = len(y[y == values[1]])\n",
    "                if num1 > num2:\n",
    "                    node.forecast = values[0]\n",
    "                else:\n",
    "                    node.forecast = values[1]\n",
    "                node.is_leaf = True\n",
    "                return node\n",
    "            \n",
    "            factor_num = len(self.factors)\n",
    "            best_t = 0\n",
    "            best_ind = 0\n",
    "            min_err = -1\n",
    "            for i in xrange(0, factor_num):\n",
    "                factor_values = unique(X[:, :, self.factors[i]])\n",
    "                for j in xrange(0, len(factor_values)):\n",
    "                    t = factor_values[j]   \n",
    "                    xl = []\n",
    "                    yl = []\n",
    "                    xr = []\n",
    "                    yr = []\n",
    "                    for k in xrange(0, len(X)):\n",
    "                        if X[k][0][self.factors[i]] <= t:\n",
    "                            xl.append(X[k])\n",
    "                            yl.append(y[k])\n",
    "                        else:\n",
    "                            xr.append(X[k])\n",
    "                            yr.append(y[k])\n",
    "                    err = 0\n",
    "                    if len(xl) > 0:\n",
    "                        err += len(xl) * self.H(xl, yl) * 1. / len(X)\n",
    "                    if len(xr) > 0:\n",
    "                        err += len(xr) * self.H(xr, yr) * 1. / len(X)                    \n",
    "                    if (min_err == -1) | (err < min_err):\n",
    "                        min_err = err\n",
    "                        best_t = t\n",
    "                        best_ind = self.factors[i]\n",
    "                        \n",
    "            xl = []\n",
    "            yl = []\n",
    "            xr = []\n",
    "            yr = []\n",
    "            for k in xrange(0, len(X)):\n",
    "                if X[k][0][best_ind] <= best_t:\n",
    "                    xl.append(X[k])\n",
    "                    yl.append(y[k])\n",
    "                else:\n",
    "                    xr.append(X[k])\n",
    "                    yr.append(y[k])\n",
    "            node.factor_ind = best_ind\n",
    "            node.t = best_t                \n",
    "                                \n",
    "            if len(xl) > 0:\n",
    "                left = self.Node()\n",
    "                left = self.add_children(left, xl, yl, depth + 1)\n",
    "                node.left = left\n",
    "                \n",
    "            if len(xr) > 0:\n",
    "                right = self.Node()\n",
    "                right = self.add_children(right, xr, yr, depth + 1)\n",
    "                node.right = right\n",
    "                \n",
    "            return node\n",
    "        \n",
    "        def predict(self, X):\n",
    "            return self.root.predict(X)\n",
    "    \n",
    "    def __init__(self, tree_num = 10, max_in_leaf = 1, max_depth = 8, q_func = sqrt):            \n",
    "        \"\"\"Constructor\"\"\"\n",
    "        self.tree_num = tree_num\n",
    "        self.max_in_leaf = max_in_leaf\n",
    "        self.max_depth = max_depth\n",
    "        self.q_func = q_func\n",
    "        \n",
    "    def get_params(self, deep = True):\n",
    "        return {\"max_in_leaf\" : self.max_in_leaf, \"max_depth\" : self.max_depth, \"tree_num\" : self.tree_num, \"q_func\" : self.q_func}\n",
    "    \n",
    "    def set_params(self, **parameters):\n",
    "        for parameter, value in parameters.items():\n",
    "            setattr(self, parameter, value)\n",
    "        return self\n",
    "\n",
    "        \n",
    "    def fit(self, X, y):\n",
    "        self.n = len(X)\n",
    "        self.trees = []\n",
    "        self.classes = unique(y)\n",
    "        X = np.array(X)\n",
    "        y = np.array(y)\n",
    "        for i in xrange(0, self.tree_num):\n",
    "            ind = np.random.randint(0, self.n, size = self.n, dtype = 'int')\n",
    "            self.trees.append(self.Tree(X[ind], y[ind], self.max_in_leaf, self.max_depth, self.q_func))\n",
    "        return self\n",
    "    \n",
    "    def predict(self, X):\n",
    "        X = np.array(X).reshape(len(X), 1, -1)\n",
    "        res = []\n",
    "        for i in xrange(0, len(X)):\n",
    "            sum = 0\n",
    "            for j in xrange(0, self.tree_num):\n",
    "                sum += self.trees[j].predict(X[i])\n",
    "            av = sum * 1. / self.tree_num\n",
    "            min_err = -1\n",
    "            best_class = 0\n",
    "            for j in xrange(0, len(self.classes)):\n",
    "                if (min_err == -1) | (abs(self.classes[j] - av) < min_err):\n",
    "                    min_err = abs(self.classes[j] - av)\n",
    "                    best_class = j\n",
    "            res.append(self.classes[best_class])\n",
    "        return res"
   ]
  },
  {
   "cell_type": "code",
   "execution_count": null,
   "metadata": {
    "collapsed": true
   },
   "outputs": [],
   "source": [
    "def print_digit(digit):\n",
    "    pyplot.imshow(digit.reshape(28,28))\n",
    "    plt.show()"
   ]
  },
  {
   "cell_type": "markdown",
   "metadata": {},
   "source": [
    "Классификатор KNN из предыдущей лабораторной путался в цифрах 4/7/9 и 3/5/8.<br> \n",
    "Из данных MNIST возьмем 1000 элементов классов 3 и 5 (да, должно быть 10000, но это помогло ускорить процесс вычислений в 10 раз, что критично в случае моего классификатора). <i>Все дальнейшие исследования проводились на выборке в 1000 элементов.</i>"
   ]
  },
  {
   "cell_type": "code",
   "execution_count": 4,
   "metadata": {
    "collapsed": true
   },
   "outputs": [],
   "source": [
    "data = pd.read_csv('learn.csv')\n",
    "y = data['answer']\n",
    "x = data[(y == 3) | (y == 5)]\n",
    "x = x.sample(n = 1000)\n",
    "y = x['answer']\n",
    "y = y.values\n",
    "x = x.drop('answer', 1)\n",
    "x = x.iloc[:].values\n",
    "    \n",
    "from sklearn.cross_validation import train_test_split\n",
    "x_train, x_test, y_train, y_test = train_test_split(x, y, test_size = 0.3)"
   ]
  },
  {
   "cell_type": "code",
   "execution_count": null,
   "metadata": {
    "collapsed": true
   },
   "outputs": [],
   "source": [
    "cl = DRandomForestClassifier(tree_num = 10, max_depth = 8)\n",
    "cl.fit(x_train, y_train)"
   ]
  },
  {
   "cell_type": "markdown",
   "metadata": {},
   "source": [
    "# Подбор гиперпараметров. 1 этап\n",
    "Подберем при помощи GridSearchCV наилучшие гиперпараметры. Подбираем в 2 этапа: сначала на более широкой сетке параметров, затем на узкой сетке в окрестности лучшего результата (!!!убрать, если не успею 2 этап). Попробуем следующие варианты:<br>\n",
    "число деревьев: 5, 15, 25, 50, 75<br>\n",
    "максимальная глубина дерева: 5, 10, 15<br>\n",
    "максимальное число элементов в листе: 5, 10, 15<br>\n",
    "функция подсчета числа признаков: q = sqrt(x) - это рекомендуемая функция для задачи классификации, ее зафиксируем<br>\n",
    "<b>Результаты:</b><br>\n",
    "число деревьев: 75 (чем больше деревьев, тем точнее ответ - вроде логично)<br>\n",
    "максимальная глубина дерева: 10 (деревья не должны быть слишком глубокими, чтобы не переобучались)<br>\n",
    "максимальное число элементов в листе: 5 (их не должно быть слишком мало, чтобы не было переобучения; и не должно быть слишком много, чтобы учитывалось достаточное количество признаков)<br>\n",
    "<i>Примечание</i>. В output написано, что он считал 203 минуты, хотя на деле он считал всю ночь и закончил утром при мне, то есть часов 6-7 прошло с момента запуска. Почему так, я не поняла, может, вы в курсе?"
   ]
  },
  {
   "cell_type": "code",
   "execution_count": 6,
   "metadata": {},
   "outputs": [
    {
     "name": "stdout",
     "output_type": "stream",
     "text": [
      "Fitting 2 folds for each of 45 candidates, totalling 90 fits\n"
     ]
    },
    {
     "name": "stderr",
     "output_type": "stream",
     "text": [
      "[Parallel(n_jobs=1)]: Done  90 out of  90 | elapsed: 202.9min finished\n"
     ]
    },
    {
     "data": {
      "text/plain": [
       "{'max_depth': 10, 'max_in_leaf': 5, 'q_func': <ufunc 'sqrt'>, 'tree_num': 75}"
      ]
     },
     "execution_count": 6,
     "metadata": {},
     "output_type": "execute_result"
    }
   ],
   "source": [
    "param_grid = { \"tree_num\"      : [5, 15, 25, 50, 75],\n",
    "           \"max_depth\"         : [5, 10, 15],\n",
    "           \"max_in_leaf\"      : [5, 10, 15],\n",
    "           \"q_func\"      : [sqrt]}\n",
    "grid_search = GridSearchCV(DRandomForestClassifier(), param_grid, scoring = 'accuracy', verbose = 1, cv = 2)\n",
    "grid_search.fit(x, y)\n",
    "grid_search.best_estimator_.get_params()"
   ]
  },
  {
   "cell_type": "markdown",
   "metadata": {},
   "source": [
    "# Подбор гиперпараметров. 2 этап\n",
    "Рассмотрим теперь следующие наборы параметров (на более узкой сетке):<br>\n",
    "число деревьев: 30 - фиксируем (ясно, что чем больше, тем лучше) так, чтобы было не очень мало, но и не очень много, а то будет долго считаться<br>\n",
    "максимальная глубина дерева: 8, 10, 12<br>\n",
    "максимальное число элементов в листе: 3, 5, 7<br>\n",
    "функция подсчета числа признаков: q = sqrt(x) - фиксируем<br>\n",
    "<b>Результаты:</b><br>\n",
    "максимальная глубина дерева: 10<br>\n",
    "максимальное число элементов в листе: 7<br>"
   ]
  },
  {
   "cell_type": "code",
   "execution_count": 10,
   "metadata": {},
   "outputs": [
    {
     "name": "stdout",
     "output_type": "stream",
     "text": [
      "Fitting 2 folds for each of 9 candidates, totalling 18 fits\n"
     ]
    },
    {
     "name": "stderr",
     "output_type": "stream",
     "text": [
      "[Parallel(n_jobs=1)]: Done  18 out of  18 | elapsed: 32.1min finished\n"
     ]
    },
    {
     "data": {
      "text/plain": [
       "{'max_depth': 10, 'max_in_leaf': 7, 'q_func': <ufunc 'sqrt'>, 'tree_num': 30}"
      ]
     },
     "execution_count": 10,
     "metadata": {},
     "output_type": "execute_result"
    }
   ],
   "source": [
    "param_grid_n = { \"tree_num\"      : [30],\n",
    "           \"max_depth\"         : [8, 10, 12],\n",
    "           \"max_in_leaf\"      : [3, 5, 7],\n",
    "           \"q_func\"      : [sqrt]}\n",
    "grid_search_n = GridSearchCV(DRandomForestClassifier(), param_grid_n, scoring = 'accuracy', verbose = 1, cv = 2)\n",
    "grid_search_n.fit(x, y)\n",
    "grid_search_n.best_estimator_.get_params()"
   ]
  },
  {
   "cell_type": "markdown",
   "metadata": {},
   "source": [
    "# График ошибки в зависимости от числа деревьев\n",
    "Опять используем GridSearchCV, но для более широкого набора параметров (для числа входных деревьев). Остальные параметры фиксируем (берем рекомендуемые):<br>\n",
    "а) число элементов в листе: 5<br>\n",
    "б) максимальная глубина: 8<br>\n",
    "в) q: sqrt<br>"
   ]
  },
  {
   "cell_type": "code",
   "execution_count": 8,
   "metadata": {},
   "outputs": [
    {
     "name": "stdout",
     "output_type": "stream",
     "text": [
      "Fitting 2 folds for each of 10 candidates, totalling 20 fits\n"
     ]
    },
    {
     "name": "stderr",
     "output_type": "stream",
     "text": [
      "[Parallel(n_jobs=1)]: Done  20 out of  20 | elapsed: 73.9min finished\n"
     ]
    },
    {
     "name": "stdout",
     "output_type": "stream",
     "text": [
      "[0.874, 0.853, 0.917, 0.925, 0.93, 0.927, 0.944, 0.929, 0.947, 0.95]\n"
     ]
    }
   ],
   "source": [
    "tree_num_values = [5, 10, 15, 20, 25, 30, 50, 75, 100, 120]\n",
    "param_grid = { \"tree_num\"      : tree_num_values}\n",
    "grid_search = GridSearchCV(DRandomForestClassifier(), param_grid, scoring = 'accuracy', verbose = 1, cv = 2)\n",
    "grid_search.fit(x, y)\n",
    "tree_num_scores = [t[1] for t in grid_search.grid_scores_]\n",
    "err = np.array([1] * len(tree_num_scores)) - np.array(tree_num_scores)\n",
    "print tree_num_scores"
   ]
  },
  {
   "cell_type": "code",
   "execution_count": 9,
   "metadata": {},
   "outputs": [
    {
     "data": {
      "image/png": "[encoded data removed]",
      "text/plain": [
       "<matplotlib.figure.Figure at 0x1651da20>"
      ]
     },
     "metadata": {},
     "output_type": "display_data"
    }
   ],
   "source": [
    "plt.plot(tree_num_values, err)\n",
    "plt.xlabel(\"number of trees\")\n",
    "plt.ylabel(\"error\")\n",
    "plt.show()"
   ]
  },
  {
   "cell_type": "markdown",
   "metadata": {},
   "source": [
    "# Сравнение со стандартным классификатором\n",
    "Зафиксируем гиперпараметры:<br>\n",
    "а) количество деревьев: 50<br>\n",
    "б) максимальныя глубина: 10<br>\n",
    "в) число элементов в листе: 7<br>\n",
    "<b>Результаты:</b><br>\n",
    "рукописный классификатор: 93,7%<br>\n",
    "стандартный классификатор: 95%<br>\n",
    "Следует отметить, что при хорошо подобранных гиперпараметрах RandomForest - очень хороший и достаточно универсальный классификатор, так как на этих классах другие алгоритмы путались, а RandomForest дает высокий процент точности.<br>\n",
    "Различия в accuracy со стандартным можно объяснить наличием в стандартном классификаторе большого числа других гиперпараметров, которые в рукописном игнорируются. Возможно, если и их подобрать, то можно будет еще повысить accuracy рукописного RF."
   ]
  },
  {
   "cell_type": "code",
   "execution_count": 14,
   "metadata": {},
   "outputs": [
    {
     "data": {
      "text/plain": [
       "<__main__.DRandomForestClassifier at 0xe7e8978>"
      ]
     },
     "execution_count": 14,
     "metadata": {},
     "output_type": "execute_result"
    }
   ],
   "source": [
    "cl1 = DRandomForestClassifier(tree_num = 50, max_depth = 10, max_in_leaf = 7)\n",
    "cl1.fit(x_train, y_train)"
   ]
  },
  {
   "cell_type": "code",
   "execution_count": 15,
   "metadata": {},
   "outputs": [
    {
     "data": {
      "text/plain": [
       "0.93666666666666665"
      ]
     },
     "execution_count": 15,
     "metadata": {},
     "output_type": "execute_result"
    }
   ],
   "source": [
    "accuracy_score(y_test, cl1.predict(x_test))"
   ]
  },
  {
   "cell_type": "code",
   "execution_count": 19,
   "metadata": {},
   "outputs": [
    {
     "data": {
      "text/plain": [
       "0.94999999999999996"
      ]
     },
     "execution_count": 19,
     "metadata": {},
     "output_type": "execute_result"
    }
   ],
   "source": [
    "cl2 = RandomForestClassifier(n_estimators = 50, max_depth = 10, min_samples_leaf = 7)\n",
    "cl2.fit(x_train, y_train)\n",
    "accuracy_score(y_test, cl2.predict(x_test))"
   ]
  }
 ],
 "metadata": {
  "kernelspec": {
   "display_name": "Python 2",
   "language": "python",
   "name": "python2"
  },
  "language_info": {
   "codemirror_mode": {
    "name": "ipython",
    "version": 2
   },
   "file_extension": ".py",
   "mimetype": "text/x-python",
   "name": "python",
   "nbconvert_exporter": "python",
   "pygments_lexer": "ipython2",
   "version": "2.7.14"
  }
 },
 "nbformat": 4,
 "nbformat_minor": 2
}
