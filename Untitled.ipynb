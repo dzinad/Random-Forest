{
 "cells": [
  {
   "cell_type": "code",
   "execution_count": 1,
   "metadata": {},
   "outputs": [
    {
     "name": "stdout",
     "output_type": "stream",
     "text": [
      "Populating the interactive namespace from numpy and matplotlib\n"
     ]
    }
   ],
   "source": [
    "from matplotlib import pyplot\n",
    "import pandas as pd\n",
    "import numpy as np\n",
    "from numpy import linalg as la\n",
    "import sklearn as sk\n",
    "import sklearn.metrics\n",
    "import random as rd\n",
    "%pylab inline"
   ]
  },
  {
   "cell_type": "code",
   "execution_count": null,
   "metadata": {
    "collapsed": true
   },
   "outputs": [],
   "source": []
  },
  {
   "cell_type": "code",
   "execution_count": 2,
   "metadata": {
    "collapsed": true
   },
   "outputs": [],
   "source": [
    "class RandomForestClassifier(object):\n",
    "    \"\"\"docstring\"\"\"\n",
    "    \n",
    "    class Tree:\n",
    "        \"\"\"docstring\"\"\"\n",
    "        \n",
    "        class Node:\n",
    "            \"\"\"docstring\"\"\"\n",
    "            \n",
    "            def __init__(self):\n",
    "                \"\"\"Constructor\"\"\"\n",
    "                self.is_leaf = False\n",
    "                self.forecast = None\n",
    "                self.t = 0\n",
    "                self.factor_ind = 0\n",
    "                self.left = None\n",
    "                self.right = None\n",
    "                \n",
    "            def predict(self, X):\n",
    "                if self.is_leaf:\n",
    "                    return self.forecast\n",
    "                if X[0][self.factor_ind] <= self.t:\n",
    "                    if self.left is not None:\n",
    "                        return self.left.predict(X)\n",
    "                    else:\n",
    "                        return self.right.predict(X)\n",
    "                else:\n",
    "                    if self.right is not None:\n",
    "                        return self.right.predict(X)\n",
    "                    else:\n",
    "                        return self.left.predict(X)\n",
    "                    \n",
    "        \n",
    "        def __init__(self, X, y, max_in_leaf, max_depth, q):            \n",
    "            \"\"\"Constructor\"\"\"        \n",
    "            self.max_in_leaf = max_in_leaf\n",
    "            self.max_depth = max_depth\n",
    "            #self.factor_num = factor_num\n",
    "            self.root = self.Node()\n",
    "            X = np.array(X).reshape((len(X), 1, -1))\n",
    "            d = len(X[0][0])\n",
    "            tmp = np.arange(d)\n",
    "            s = int (q(d))\n",
    "            np.random.shuffle(tmp)\n",
    "            self.factors = tmp[:s]\n",
    "            self.root = self.add_children(self.root, X, y, 0)\n",
    "            \n",
    "        def H(self, x, y):\n",
    "            y = np.array(y)\n",
    "            tmp1 = np.unique(y)   \n",
    "            p1 = len(y[y == tmp1[0]]) * 1. / len(x)\n",
    "            p2 = 1 - p1\n",
    "            return p1 * (1 - p1) * p2 * (1 - p2)\n",
    "        \n",
    "            \n",
    "        def add_children(self, node, X, y, depth):\n",
    "            X = np.array(X)\n",
    "            y = np.array(y)\n",
    "            if (len(X) <= self.max_in_leaf) | (depth >= self.max_depth):\n",
    "                values = unique(y)\n",
    "                num1 = len(y[y == values[0]])\n",
    "                num2 = 0\n",
    "                if len(values) > 1:\n",
    "                    num2 = len(y[y == values[1]])\n",
    "                if num1 > num2:\n",
    "                    node.forecast = values[0]\n",
    "                else:\n",
    "                    node.forecast = values[1]\n",
    "                node.is_leaf = True\n",
    "                return node\n",
    "            \n",
    "            factor_num = len(self.factors)\n",
    "            best_t = 0\n",
    "            best_ind = 0\n",
    "            min_err = -1\n",
    "            for i in xrange(0, factor_num):\n",
    "                factor_values = unique(X[:, :, self.factors[i]])\n",
    "                for j in xrange(0, len(factor_values)):\n",
    "                    t = factor_values[j]   \n",
    "                    xl = []\n",
    "                    yl = []\n",
    "                    xr = []\n",
    "                    yr = []\n",
    "                    for k in xrange(0, len(X)):\n",
    "                        if X[k][0][self.factors[i]] <= t:\n",
    "                            xl.append(X[k])\n",
    "                            yl.append(y[k])\n",
    "                        else:\n",
    "                            xr.append(X[k])\n",
    "                            yr.append(y[k])\n",
    "                    err = 0\n",
    "                    if len(xl) > 0:\n",
    "                        err += len(xl) * self.H(xl, yl) * 1. / len(X)\n",
    "                    if len(xr) > 0:\n",
    "                        err += len(xr) * self.H(xr, yr) * 1. / len(X)\n",
    "                    if (min_err == -1) | (err < min_err):\n",
    "                        min_err = err\n",
    "                        best_t = t\n",
    "                        best_ind = self.factors[i]\n",
    "                        \n",
    "            xl = []\n",
    "            yl = []\n",
    "            xr = []\n",
    "            yr = []\n",
    "            for k in xrange(0, len(X)):\n",
    "                if X[k][0][best_ind] <= best_t:\n",
    "                    xl.append(X[k])\n",
    "                    yl.append(y[k])\n",
    "                else:\n",
    "                    xr.append(X[k])\n",
    "                    yr.append(y[k])\n",
    "            node.factor_ind = best_ind\n",
    "            node.t = best_t                \n",
    "                \n",
    "                \n",
    "            if len(xl) > 0:\n",
    "                left = self.Node()\n",
    "                left = self.add_children(left, xl, yl, depth + 1)\n",
    "                node.left = left\n",
    "                \n",
    "            if len(xr) > 0:\n",
    "                right = self.Node()\n",
    "                right = self.add_children(right, xr, yr, depth + 1)\n",
    "                node.right = right\n",
    "                \n",
    "            return node\n",
    "        \n",
    "        def predict(self, X):\n",
    "            return self.root.predict(X)\n",
    "    \n",
    "    def __init__(self, tree_num = 10, max_in_leaf = 5, max_depth = 8, q_func = sqrt):            \n",
    "        \"\"\"Constructor\"\"\"\n",
    "        self.tree_num = tree_num\n",
    "        self.max_in_leaf = max_in_leaf\n",
    "        self.max_depth = max_depth\n",
    "        self.q_func = q_func\n",
    "        \n",
    "    def get_params(self, deep = True):\n",
    "        return {\"max_in_leaf\" : self.max_in_leaf, \"max_depth\" : self.max_depth, \"tree_num\" : self.tree_num, \"q_func\" : self.q_func}\n",
    "    \n",
    "    def set_params(self, **parameters):\n",
    "        for parameter, value in parameters.items():\n",
    "            setattr(self, parameter, value)\n",
    "        return self\n",
    "\n",
    "        \n",
    "    def fit(self, X, y):\n",
    "        self.n = len(X)\n",
    "        self.trees = []\n",
    "        self.classes = unique(y)\n",
    "        X = np.array(X)\n",
    "        y = np.array(y)\n",
    "        for i in xrange(0, self.tree_num):\n",
    "            ind = np.random.randint(0, self.n, size = self.n, dtype = 'int')\n",
    "            self.trees.append(self.Tree(X[ind], y[ind], self.max_in_leaf, self.max_depth, self.q_func))\n",
    "        return self\n",
    "    \n",
    "    def predict(self, X):\n",
    "        X = np.array(X).reshape(len(X), 1, -1)\n",
    "        res = []\n",
    "        for i in xrange(0, len(X)):\n",
    "            sum = 0\n",
    "            for j in xrange(0, self.tree_num):\n",
    "                sum += self.trees[j].predict(X[i])\n",
    "            av = sum * 1. / self.tree_num\n",
    "            min_err = -1\n",
    "            best_class = 0\n",
    "            for j in xrange(0, len(self.classes)):\n",
    "                if (min_err == -1) | (abs(self.classes[j] - av) < min_err):\n",
    "                    min_err = abs(self.classes[j] - av)\n",
    "                    best_class = j\n",
    "            res.append(self.classes[best_class])\n",
    "        return res"
   ]
  },
  {
   "cell_type": "code",
   "execution_count": null,
   "metadata": {
    "collapsed": true
   },
   "outputs": [],
   "source": [
    "def print_digit(digit):\n",
    "    pyplot.imshow(digit.reshape(28,28))\n",
    "    plt.show()"
   ]
  },
  {
   "cell_type": "code",
   "execution_count": null,
   "metadata": {
    "collapsed": true
   },
   "outputs": [],
   "source": [
    "def test_func(arr):\n",
    "    ind = np.random.randint(0, len(arr), size = len(arr), dtype = 'int64')\n",
    "    print ind\n",
    "    print '1234'"
   ]
  },
  {
   "cell_type": "code",
   "execution_count": 3,
   "metadata": {},
   "outputs": [
    {
     "name": "stderr",
     "output_type": "stream",
     "text": [
      "C:\\Users\\dd\\Anaconda2\\lib\\site-packages\\sklearn\\cross_validation.py:41: DeprecationWarning: This module was deprecated in version 0.18 in favor of the model_selection module into which all the refactored classes and functions are moved. Also note that the interface of the new CV iterators are different from that of this module. This module will be removed in 0.20.\n",
      "  \"This module will be removed in 0.20.\", DeprecationWarning)\n"
     ]
    }
   ],
   "source": [
    "data = pd.read_csv('learn.csv')\n",
    "#data = data.sample(n = 1000)\n",
    "y = data['answer']\n",
    "x = data[(y == 3) | (y == 5)]\n",
    "x = x.sample(n = 200)\n",
    "y = x['answer']\n",
    "y = y.values\n",
    "x = x.drop('answer', 1)\n",
    "x = x.iloc[:].values\n",
    "    \n",
    "from sklearn.cross_validation import train_test_split\n",
    "x_train, x_test, y_train, y_test = train_test_split(x, y, test_size = 0.3)"
   ]
  },
  {
   "cell_type": "code",
   "execution_count": 4,
   "metadata": {
    "collapsed": true
   },
   "outputs": [],
   "source": [
    "cl = RandomForestClassifier(tree_num = 10, max_depth = 8)\n",
    "#cl.fit(x_train, y_train)\n",
    "\n",
    "#test1 = cl.predict(x_test)\n",
    "#compare = np.array(test1) == np.array(y_test)\n",
    "#right = 1. / len(x_test) * np.sum(compare)\n",
    "#print 'is my result equal to expected:'\n",
    "#print right"
   ]
  },
  {
   "cell_type": "code",
   "execution_count": null,
   "metadata": {},
   "outputs": [
    {
     "name": "stderr",
     "output_type": "stream",
     "text": [
      "C:\\Users\\dd\\Anaconda2\\lib\\site-packages\\sklearn\\grid_search.py:42: DeprecationWarning: This module was deprecated in version 0.18 in favor of the model_selection module into which all the refactored classes and functions are moved. This module will be removed in 0.20.\n",
      "  DeprecationWarning)\n"
     ]
    },
    {
     "name": "stdout",
     "output_type": "stream",
     "text": [
      "Fitting 3 folds for each of 960 candidates, totalling 2880 fits\n"
     ]
    }
   ],
   "source": [
    "from sklearn.grid_search import GridSearchCV\n",
    "one_third = lambda x: x / 3\n",
    "param_grid = { \"tree_num\"      : [3, 5, 10, 15, 20, 30, 40, 50, 70, 100, 120, 150],\n",
    "           \"max_depth\"         : [5, 8, 10, 15, 20],\n",
    "           \"max_in_leaf\"      : [1, 5, 8, 10, 15, 20, 30, 40],\n",
    "           \"q_func\"      : [sqrt, one_third]}\n",
    "#clf_cv = GridSearchCV(RandomForestClassifier(), {\"iters\" : [3]}, cv=4, scoring=\"roc_auc\",n_jobs=-1,verbose=1)\n",
    "grid_search = GridSearchCV(RandomForestClassifier(), param_grid, scoring = 'accuracy', verbose = 1)\n",
    "grid_search.fit(x, y)\n",
    "grid_search.best_estimator_.get_params()"
   ]
  },
  {
   "cell_type": "code",
   "execution_count": 6,
   "metadata": {
    "collapsed": true
   },
   "outputs": [],
   "source": [
    "cl = RandomForestClassifier()\n",
    "X_train = [[1, 2], [4, 5], [3, -1], [6, 2]]\n",
    "y_train = [1, 1, -1, -1]\n",
    "cl.fit(X_train, y_train)"
   ]
  }
 ],
 "metadata": {
  "kernelspec": {
   "display_name": "Python 2",
   "language": "python",
   "name": "python2"
  },
  "language_info": {
   "codemirror_mode": {
    "name": "ipython",
    "version": 2
   },
   "file_extension": ".py",
   "mimetype": "text/x-python",
   "name": "python",
   "nbconvert_exporter": "python",
   "pygments_lexer": "ipython2",
   "version": "2.7.14"
  }
 },
 "nbformat": 4,
 "nbformat_minor": 2
}
